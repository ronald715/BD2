{
  "nbformat": 4,
  "nbformat_minor": 0,
  "metadata": {
    "colab": {
      "name": "Untitled2.ipynb",
      "provenance": []
    },
    "kernelspec": {
      "name": "python3",
      "display_name": "Python 3"
    }
  },
  "cells": [
    {
      "cell_type": "code",
      "metadata": {
        "id": "D3n_cwihyIOv",
        "colab_type": "code",
        "colab": {}
      },
      "source": [
        "import  sqlite3\n",
        "from sqlite3 import Error\n",
        "con = sqlite3.connect(\"mi_tienda.db\")"
      ],
      "execution_count": 0,
      "outputs": []
    },
    {
      "cell_type": "code",
      "metadata": {
        "id": "OZGa6UK6yShj",
        "colab_type": "code",
        "outputId": "361baaaf-83f8-425f-c697-eb1e424064d6",
        "colab": {
          "base_uri": "https://localhost:8080/",
          "height": 119
        }
      },
      "source": [
        "ls -la"
      ],
      "execution_count": 0,
      "outputs": [
        {
          "output_type": "stream",
          "text": [
            "total 16\n",
            "drwxr-xr-x 1 root root 4096 Apr 18 19:34 \u001b[0m\u001b[01;34m.\u001b[0m/\n",
            "drwxr-xr-x 1 root root 4096 Apr 18 19:29 \u001b[01;34m..\u001b[0m/\n",
            "drwxr-xr-x 1 root root 4096 Apr 15 16:10 \u001b[01;34m.config\u001b[0m/\n",
            "-rw-r--r-- 1 root root    0 Apr 18 19:34 mi_tienda.db\n",
            "drwxr-xr-x 1 root root 4096 Apr  3 16:24 \u001b[01;34msample_data\u001b[0m/\n"
          ],
          "name": "stdout"
        }
      ]
    },
    {
      "cell_type": "code",
      "metadata": {
        "id": "t1UvY1v6yUOE",
        "colab_type": "code",
        "colab": {}
      },
      "source": [
        "cursorObj = con.cursor()"
      ],
      "execution_count": 0,
      "outputs": []
    },
    {
      "cell_type": "code",
      "metadata": {
        "id": "h7NYEli3yYiy",
        "colab_type": "code",
        "colab": {}
      },
      "source": [
        "def sql_connection():\n",
        "\n",
        "    try:\n",
        "\n",
        "        con = sqlite3.connect(\"mi_tienda.db\")\n",
        "\n",
        "        return con\n",
        "\n",
        "    except Error:\n",
        "\n",
        "        print(Error)\n",
        "\n",
        "def sql_table(con):\n",
        "\n",
        "    cursorObj = con.cursor()\n",
        "\n",
        "    cursorObj.execute(\"CREATE TABLE productos(id integer PRIMARY KEY, nombre_producto text, precio_producto real)\")\n",
        "\n",
        "    con.commit()\n",
        "\n",
        "con = sql_connection()\n",
        "\n",
        "sql_table(con)\n",
        "\n",
        "\n"
      ],
      "execution_count": 0,
      "outputs": []
    },
    {
      "cell_type": "code",
      "metadata": {
        "id": "2B_i50Nh0kb_",
        "colab_type": "code",
        "colab": {}
      },
      "source": [
        "con = sqlite3.connect(\"mi_tienda.db\")\n",
        "def sql_insert(con, entities):\n",
        "\n",
        "    cursorObj = con.cursor()\n",
        "    \n",
        "    cursorObj.execute('INSERT INTO productos(id, nombre_producto, precio_producto) VALUES(?, ?, ?)', entities)\n",
        "    \n",
        "    con.commit()\n",
        "\n",
        "entities = (1, 'Macbook', 4500.50)\n",
        "\n",
        "sql_insert(con, entities)\n"
      ],
      "execution_count": 0,
      "outputs": []
    }
  ]
}